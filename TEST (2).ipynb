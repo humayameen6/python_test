{
  "nbformat": 4,
  "nbformat_minor": 0,
  "metadata": {
    "colab": {
      "provenance": []
    },
    "kernelspec": {
      "name": "python3",
      "display_name": "Python 3"
    },
    "language_info": {
      "name": "python"
    }
  },
  "cells": [
    {
      "cell_type": "code",
      "execution_count": 2,
      "metadata": {
        "colab": {
          "base_uri": "https://localhost:8080/"
        },
        "id": "nURnhVo7s_6g",
        "outputId": "bdd2f891-2ea6-47d7-a6d4-5745d91222c6"
      },
      "outputs": [
        {
          "output_type": "stream",
          "name": "stdout",
          "text": [
            "ENTER THE NUMBER: 7\n",
            "NUMBER IS ODD\n"
          ]
        }
      ],
      "source": [
        "#Python program to print all odd numbers in a list.\n",
        "\n",
        "l = int(input(\"ENTER THE NUMBER: \"))\n",
        "\n",
        "if l % 2 != 0 :\n",
        "  print(\"NUMBER IS ODD\")\n"
      ]
    },
    {
      "cell_type": "code",
      "source": [
        "#Python program to find the sum of list elements.\n",
        "r = [1,3,5,8]\n",
        "re = sum (r)\n",
        "print(r)\n"
      ],
      "metadata": {
        "colab": {
          "base_uri": "https://localhost:8080/"
        },
        "id": "PrbTwgIivE05",
        "outputId": "5fa1d066-584b-4308-a686-f42110a72e00"
      },
      "execution_count": 16,
      "outputs": [
        {
          "output_type": "stream",
          "name": "stdout",
          "text": [
            "[1, 3, 5, 8]\n"
          ]
        }
      ]
    },
    {
      "cell_type": "code",
      "source": [
        "#Python program to reverse a list in two ways.\n",
        "u = [3, 6 ,7, 8]\n",
        "u.reverse()\n",
        "print (u)\n",
        "\n"
      ],
      "metadata": {
        "colab": {
          "base_uri": "https://localhost:8080/"
        },
        "id": "XY6_NrTwwghY",
        "outputId": "1389b43c-60fd-417f-c4e7-5b45c1a3c49c"
      },
      "execution_count": 13,
      "outputs": [
        {
          "output_type": "stream",
          "name": "stdout",
          "text": [
            "[8, 7, 6, 3]\n"
          ]
        }
      ]
    },
    {
      "cell_type": "code",
      "source": [
        "# Python program to find the top two maximum numbers in a list\n",
        "list1=[1 , 3 ,4]\n",
        "maxValue = max(list1)\n",
        "print(maxValue)"
      ],
      "metadata": {
        "colab": {
          "base_uri": "https://localhost:8080/"
        },
        "id": "uogy_zvnxKa5",
        "outputId": "cffb3fdb-eb8c-4569-d225-f9361d184333"
      },
      "execution_count": 11,
      "outputs": [
        {
          "output_type": "stream",
          "name": "stdout",
          "text": [
            "4\n"
          ]
        }
      ]
    },
    {
      "cell_type": "code",
      "source": [
        "#Write a program in Python to find the second highest number in an integer list.\n",
        "l = [2 , 6 ,8 ,9]\n",
        "max = max(list1[0])\n",
        "print(max)"
      ],
      "metadata": {
        "colab": {
          "base_uri": "https://localhost:8080/",
          "height": 217
        },
        "id": "vPVt3_Wky12P",
        "outputId": "eb7aa450-72fa-443a-bdbf-ac580bb31132"
      },
      "execution_count": 19,
      "outputs": [
        {
          "output_type": "error",
          "ename": "TypeError",
          "evalue": "ignored",
          "traceback": [
            "\u001b[0;31m---------------------------------------------------------------------------\u001b[0m",
            "\u001b[0;31mTypeError\u001b[0m                                 Traceback (most recent call last)",
            "\u001b[0;32m<ipython-input-19-7afebbd8bad5>\u001b[0m in \u001b[0;36m<cell line: 3>\u001b[0;34m()\u001b[0m\n\u001b[1;32m      1\u001b[0m \u001b[0;31m#Write a program in Python to find the second highest number in an integer list.\u001b[0m\u001b[0;34m\u001b[0m\u001b[0;34m\u001b[0m\u001b[0m\n\u001b[1;32m      2\u001b[0m \u001b[0ml\u001b[0m \u001b[0;34m=\u001b[0m \u001b[0;34m[\u001b[0m\u001b[0;36m2\u001b[0m \u001b[0;34m,\u001b[0m \u001b[0;36m6\u001b[0m \u001b[0;34m,\u001b[0m\u001b[0;36m8\u001b[0m \u001b[0;34m,\u001b[0m\u001b[0;36m9\u001b[0m\u001b[0;34m]\u001b[0m\u001b[0;34m\u001b[0m\u001b[0;34m\u001b[0m\u001b[0m\n\u001b[0;32m----> 3\u001b[0;31m \u001b[0mmax\u001b[0m \u001b[0;34m=\u001b[0m \u001b[0mmax\u001b[0m\u001b[0;34m(\u001b[0m\u001b[0mlist1\u001b[0m\u001b[0;34m[\u001b[0m\u001b[0;36m0\u001b[0m\u001b[0;34m]\u001b[0m\u001b[0;34m)\u001b[0m\u001b[0;34m\u001b[0m\u001b[0;34m\u001b[0m\u001b[0m\n\u001b[0m\u001b[1;32m      4\u001b[0m \u001b[0mprint\u001b[0m\u001b[0;34m(\u001b[0m\u001b[0mmax\u001b[0m\u001b[0;34m)\u001b[0m\u001b[0;34m\u001b[0m\u001b[0;34m\u001b[0m\u001b[0m\n",
            "\u001b[0;31mTypeError\u001b[0m: 'int' object is not callable"
          ]
        }
      ]
    },
    {
      "cell_type": "code",
      "source": [
        "#Python program to sort characters in descending order.\n",
        "#to remove repeated character from a string\n",
        "K = \"NO PAIN NO GAIN\"\n",
        "k2=[]\n",
        "for ele in K:\n",
        "if ele not in k2:\n",
        "k2.append(ele)\n",
        "for i in range(0,len(k2)):\n",
        "print(k2[i],end=\"\")string=\"geeksforgeeks\"\n",
        "f= \"\""
      ],
      "metadata": {
        "colab": {
          "base_uri": "https://localhost:8080/",
          "height": 130
        },
        "id": "EARJO-pN3bI_",
        "outputId": "b5fefc97-b398-4e0a-c52e-1b9454b9b210"
      },
      "execution_count": 20,
      "outputs": [
        {
          "output_type": "error",
          "ename": "IndentationError",
          "evalue": "ignored",
          "traceback": [
            "\u001b[0;36m  File \u001b[0;32m\"<ipython-input-20-8f48f4928281>\"\u001b[0;36m, line \u001b[0;32m6\u001b[0m\n\u001b[0;31m    if ele not in k2:\u001b[0m\n\u001b[0m    ^\u001b[0m\n\u001b[0;31mIndentationError\u001b[0m\u001b[0;31m:\u001b[0m expected an indented block after 'for' statement on line 5\n"
          ]
        }
      ]
    },
    {
      "cell_type": "code",
      "source": [
        "#Python program to check if a given character is a vowel or consonant.\n",
        "y= \"kitrefdsa\"\n",
        "if\n"
      ],
      "metadata": {
        "id": "ov4xptt052fv"
      },
      "execution_count": 21,
      "outputs": []
    },
    {
      "cell_type": "code",
      "source": [
        "\n",
        "#Python Program to merge two lists.\n",
        "LIST1= [\"fire\" , \"jungle\" , \"dark\", \"lion\"]\n",
        "LIST2 = [\"insert\" , \"home\" , \"pageup\", \"delete\"]\n",
        "\n",
        "\n",
        "\n",
        "LIST3 = LIST1 + LIST2\n",
        "print(LIST3)"
      ],
      "metadata": {
        "colab": {
          "base_uri": "https://localhost:8080/"
        },
        "id": "RJQPwiwx7uJY",
        "outputId": "bfef56c9-adb3-4efa-a5b7-dad286dab793"
      },
      "execution_count": 24,
      "outputs": [
        {
          "output_type": "stream",
          "name": "stdout",
          "text": [
            "['fire', 'jungle', 'dark', 'lion', 'insert', 'home', 'pageup', 'delete']\n"
          ]
        }
      ]
    },
    {
      "cell_type": "code",
      "source": [
        "#Python Program to calculate factorial.\n",
        "num = int(input(\"Enter the Number :\"))\n",
        "\n",
        "fact = 1\n",
        "\n",
        "if num < 0:\n",
        "    print(\"Factorial of negative number is not defined\")\n",
        "else:\n",
        "    for i in range(1,num+1):\n",
        "        fact = fact * i\n",
        "    print(\"Factorial of {} is {}\".format(num, fact))"
      ],
      "metadata": {
        "colab": {
          "base_uri": "https://localhost:8080/"
        },
        "id": "AmkldjE0_Kxf",
        "outputId": "18f284df-6251-47b3-d928-e0e9f62ef8b6"
      },
      "execution_count": 28,
      "outputs": [
        {
          "output_type": "stream",
          "name": "stdout",
          "text": [
            "Enter the Number :98\n",
            "Factorial of 98 is 9426890448883247745626185743057242473809693764078951663494238777294707070023223798882976159207729119823605850588608460429412647567360000000000000000000000\n"
          ]
        }
      ]
    },
    {
      "cell_type": "code",
      "source": [],
      "metadata": {
        "id": "FdyxceHADERu"
      },
      "execution_count": null,
      "outputs": []
    }
  ]
}